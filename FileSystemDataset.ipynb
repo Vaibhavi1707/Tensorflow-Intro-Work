{
  "nbformat": 4,
  "nbformat_minor": 0,
  "metadata": {
    "colab": {
      "name": "FileSystemDataset.ipynb",
      "provenance": [],
      "authorship_tag": "ABX9TyMgu4snqXIqttjwWEil5zB1",
      "include_colab_link": true
    },
    "kernelspec": {
      "name": "python3",
      "display_name": "Python 3"
    },
    "accelerator": "GPU"
  },
  "cells": [
    {
      "cell_type": "markdown",
      "metadata": {
        "id": "view-in-github",
        "colab_type": "text"
      },
      "source": [
        "<a href=\"https://colab.research.google.com/github/Vaibhavi1707/Tensorflow-Intro-Work/blob/master/FileSystemDataset.ipynb\" target=\"_parent\"><img src=\"https://colab.research.google.com/assets/colab-badge.svg\" alt=\"Open In Colab\"/></a>"
      ]
    },
    {
      "cell_type": "markdown",
      "metadata": {
        "id": "-q_g7oQO_gM8",
        "colab_type": "text"
      },
      "source": [
        "Taking datasets from file system."
      ]
    },
    {
      "cell_type": "code",
      "metadata": {
        "id": "pP5H7BiJ_G49",
        "colab_type": "code",
        "colab": {}
      },
      "source": [
        "!wget --no-check-certificate \\\n",
        "    https://storage.googleapis.com/laurencemoroney-blog.appspot.com/horse-or-human.zip \\\n",
        "    -O /tmp/horse-or-human.zip"
      ],
      "execution_count": null,
      "outputs": []
    },
    {
      "cell_type": "code",
      "metadata": {
        "id": "fFJJOGl-GOLs",
        "colab_type": "code",
        "colab": {}
      },
      "source": [
        "!wget --no-check-certificate \\\n",
        "    https://storage.googleapis.com/laurencemoroney-blog.appspot.com/validation-horse-or-human.zip \\\n",
        "    -O /tmp/validation-horse-or-human.zip"
      ],
      "execution_count": null,
      "outputs": []
    },
    {
      "cell_type": "code",
      "metadata": {
        "id": "eEpYHfpa_fos",
        "colab_type": "code",
        "colab": {}
      },
      "source": [
        "import tensorflow as tf"
      ],
      "execution_count": 2,
      "outputs": []
    },
    {
      "cell_type": "code",
      "metadata": {
        "id": "UaL3sHiFA_Ef",
        "colab_type": "code",
        "colab": {}
      },
      "source": [
        "import os, zipfile\n",
        "\n",
        "train_dir = '/tmp/horse-or-human.zip'\n",
        "train_zip = zipfile.ZipFile(train_dir, 'r')\n",
        "train_zip.extractall('/tmp/horse-or-human')\n",
        "train_zip.close()\n",
        "\n",
        "test_dir = '/tmp/validation-horse-or-human.zip'\n",
        "test_zip = zipfile.ZipFile(test_dir, 'r')\n",
        "test_zip.extractall('/tmp/validation-horse-or-human')\n",
        "test_zip.close()\n"
      ],
      "execution_count": 9,
      "outputs": []
    },
    {
      "cell_type": "code",
      "metadata": {
        "id": "-4n0vUjY_rTJ",
        "colab_type": "code",
        "colab": {}
      },
      "source": [
        "from tensorflow.keras.preprocessing.image import ImageDataGenerator\n",
        "\n",
        "train_flow = ImageDataGenerator(rescale = 1 / 255)\n",
        "\n",
        "train_data = train_flow.flow_from_directory(\n",
        "    '/tmp/horse-or-human',\n",
        "    target_size = (150, 150), # Compact Images\n",
        "    class_mode = 'binary',\n",
        "    batch_size = 128\n",
        ")\n",
        "\n",
        "test_flow = ImageDataGenerator(rescale = 1 / 255)\n",
        "test_data = test_flow.flow_from_directory(\n",
        "    '/tmp/validation-horse-or-human',\n",
        "    target_size = (150, 150), #Compact Images\n",
        "    class_mode = 'binary',\n",
        "    batch_size = 32\n",
        ")"
      ],
      "execution_count": null,
      "outputs": []
    },
    {
      "cell_type": "code",
      "metadata": {
        "id": "OQH8OVUOCub2",
        "colab_type": "code",
        "colab": {}
      },
      "source": [
        "model = tf.keras.Sequential([\n",
        "    tf.keras.layers.Conv2D(16, (3, 3), activation = 'relu', input_shape = (150, 150, 3)),\n",
        "    tf.keras.layers.MaxPooling2D(2, 2),\n",
        "    tf.keras.layers.Conv2D(32, (3, 3), activation = 'relu'),\n",
        "    tf.keras.layers.MaxPooling2D(2, 2),\n",
        "    tf.keras.layers.Conv2D(64, (3, 3), activation = 'relu'),\n",
        "    tf.keras.layers.MaxPooling2D(2, 2),\n",
        "    tf.keras.layers.Flatten(),\n",
        "    tf.keras.layers.Dense(128, activation = 'relu'),\n",
        "    tf.keras.layers.Dense(1, activation = 'sigmoid'),\n",
        "])"
      ],
      "execution_count": 17,
      "outputs": []
    },
    {
      "cell_type": "code",
      "metadata": {
        "id": "CIjuB2OCEbcj",
        "colab_type": "code",
        "colab": {}
      },
      "source": [
        "from tensorflow.keras.optimizers import RMSprop\n",
        "\n",
        "model.compile(loss = 'binary_crossentropy', optimizer = RMSprop(lr = 0.001), metrics = ['accuracy'])"
      ],
      "execution_count": 18,
      "outputs": []
    },
    {
      "cell_type": "code",
      "metadata": {
        "id": "WRU_nytUFKfE",
        "colab_type": "code",
        "colab": {}
      },
      "source": [
        "model.fit(train_data, steps_per_epoch = 8, epochs = 15, verbose = 1, validation_data = test_data, validation_steps = 8)"
      ],
      "execution_count": null,
      "outputs": []
    }
  ]
}
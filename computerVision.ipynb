{
  "nbformat": 4,
  "nbformat_minor": 0,
  "metadata": {
    "colab": {
      "name": "computerVision.ipynb",
      "provenance": [],
      "authorship_tag": "ABX9TyMks2die2gQpv/sCjr7HZL/",
      "include_colab_link": true
    },
    "kernelspec": {
      "name": "python3",
      "display_name": "Python 3"
    }
  },
  "cells": [
    {
      "cell_type": "markdown",
      "metadata": {
        "id": "view-in-github",
        "colab_type": "text"
      },
      "source": [
        "<a href=\"https://colab.research.google.com/github/Vaibhavi1707/Tensorflow-Intro-Work/blob/master/computerVision.ipynb\" target=\"_parent\"><img src=\"https://colab.research.google.com/assets/colab-badge.svg\" alt=\"Open In Colab\"/></a>"
      ]
    },
    {
      "cell_type": "markdown",
      "metadata": {
        "id": "pbmzl7i90tLi",
        "colab_type": "text"
      },
      "source": [
        "# Fashion objects classifier using neural networks\n",
        "\n",
        "callbacks: \n",
        "Here, we also see how to regulate epochs in case we reach a required accuracy.\n",
        "\n",
        "## Activators\n",
        "\n",
        "relu:\n",
        "returns a no. x to the next layer only if it's positive else returns 0\n",
        "\n",
        "softmax:\n",
        "Finds the maximum of a list and replaces all other quantities with 0 and the max quantity to be 1.\n"
      ]
    },
    {
      "cell_type": "code",
      "metadata": {
        "id": "PCwm0PPhdRud",
        "colab_type": "code",
        "colab": {}
      },
      "source": [
        "import tensorflow as tf\n",
        "\n",
        "class MyCallbacks(tf.keras.callbacks.Callback):\n",
        "  def on_epoch_end(self, epoch, logs = {} ):\n",
        "    if(logs.get('accuracy') > 0.8):\n",
        "      print('\\nEnding training reached 80% accuracy..')\n",
        "      self.model.stop_training = True"
      ],
      "execution_count": null,
      "outputs": []
    },
    {
      "cell_type": "code",
      "metadata": {
        "id": "iUFkiX6bdjf2",
        "colab_type": "code",
        "colab": {}
      },
      "source": [
        "mnist = tf.keras.datasets.mnist\n",
        "# print(fashion_mnist)"
      ],
      "execution_count": null,
      "outputs": []
    },
    {
      "cell_type": "markdown",
      "metadata": {
        "id": "czAO4ik42MKX",
        "colab_type": "text"
      },
      "source": [
        "Change all values in that testing and training data (once it's loaded), to 0 or 1 so that it's easier to process."
      ]
    },
    {
      "cell_type": "code",
      "metadata": {
        "id": "eee6OyvPd0Wr",
        "colab_type": "code",
        "colab": {}
      },
      "source": [
        "(train_images, train_labels), (test_images, test_labels) = mnist.load_data()\n",
        "train_images = train_images / 256.0 \n",
        "test_images = test_images / 256.0"
      ],
      "execution_count": null,
      "outputs": []
    },
    {
      "cell_type": "code",
      "metadata": {
        "id": "oDK4TiCmYakC",
        "colab_type": "code",
        "colab": {}
      },
      "source": [
        "model = tf.keras.Sequential([tf.keras.layers.Flatten(input_shape = (28, 28)),\n",
        "                             tf.keras.layers.Dense(256, activation=tf.nn.relu),\n",
        "                             tf.keras.layers.Dense(10, activation = tf.nn.softmax)])"
      ],
      "execution_count": null,
      "outputs": []
    },
    {
      "cell_type": "code",
      "metadata": {
        "id": "7_3TsFv-iLhH",
        "colab_type": "code",
        "colab": {}
      },
      "source": [
        "callbacks = MyCallbacks()\n",
        "\n",
        "model.compile(optimizer = 'adam', loss = 'sparse_categorical_crossentropy', metrics = ['accuracy'])\n",
        "model.fit(train_images, train_labels, epochs = 10, callbacks = [callbacks])"
      ],
      "execution_count": null,
      "outputs": []
    },
    {
      "cell_type": "code",
      "metadata": {
        "id": "v1yX2QEsiwRd",
        "colab_type": "code",
        "colab": {}
      },
      "source": [
        "model.evaluate(test_images, test_labels)"
      ],
      "execution_count": null,
      "outputs": []
    }
  ]
}
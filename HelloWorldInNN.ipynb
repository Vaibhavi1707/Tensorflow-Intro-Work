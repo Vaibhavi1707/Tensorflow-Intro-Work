{
  "nbformat": 4,
  "nbformat_minor": 0,
  "metadata": {
    "colab": {
      "name": "HelloWorldInNN.ipynb",
      "provenance": [],
      "authorship_tag": "ABX9TyNeovlpq6CmblGBS4R6osGY",
      "include_colab_link": true
    },
    "kernelspec": {
      "name": "python3",
      "display_name": "Python 3"
    }
  },
  "cells": [
    {
      "cell_type": "markdown",
      "metadata": {
        "id": "view-in-github",
        "colab_type": "text"
      },
      "source": [
        "<a href=\"https://colab.research.google.com/github/Vaibhavi1707/Tensorflow-Intro-Work/blob/master/HelloWorldInNN.ipynb\" target=\"_parent\"><img src=\"https://colab.research.google.com/assets/colab-badge.svg\" alt=\"Open In Colab\"/></a>"
      ]
    },
    {
      "cell_type": "markdown",
      "metadata": {
        "id": "iwmkt9GH0v7r",
        "colab_type": "text"
      },
      "source": [
        "# Hello World of Neural Networks\n",
        "\n",
        "We first import tensorflow, numpy and keras (A tensorflow API for building a neural network).\n",
        "\n",
        "We then create our neural network using keras. Sequential stacks indivisual layers one after the other. Dense is a layer of connected Neurons.\n",
        "\n",
        "This code maps the x and y coordinates in a single line using deep learning."
      ]
    },
    {
      "cell_type": "code",
      "metadata": {
        "id": "a_nBI7GU0nUl",
        "colab_type": "code",
        "colab": {}
      },
      "source": [
        "import tensorflow as tf\n",
        "import numpy as np\n",
        "from tensorflow import keras"
      ],
      "execution_count": null,
      "outputs": []
    },
    {
      "cell_type": "code",
      "metadata": {
        "id": "sPRTCKXj1UyA",
        "colab_type": "code",
        "colab": {}
      },
      "source": [
        "model = tf.keras.Sequential([keras.layers.Dense(units = 1, input_shape = [1])])"
      ],
      "execution_count": null,
      "outputs": []
    },
    {
      "cell_type": "code",
      "metadata": {
        "id": "Al3BZ8y13TVX",
        "colab_type": "code",
        "colab": {}
      },
      "source": [
        "qs = np.array([-1, 0, 1, 2, 3, 4, 5, 6], dtype = float)\n",
        "res = np.array([-3, -1, 1, 3, 5, 7, 9, 11], dtype = float)"
      ],
      "execution_count": null,
      "outputs": []
    },
    {
      "cell_type": "code",
      "metadata": {
        "id": "odul2wO32mU0",
        "colab_type": "code",
        "colab": {}
      },
      "source": [
        "model.compile(optimizer = 'sgd', loss = 'mean_squared_error')"
      ],
      "execution_count": null,
      "outputs": []
    },
    {
      "cell_type": "code",
      "metadata": {
        "id": "vU6aE4ya4Gc7",
        "colab_type": "code",
        "colab": {}
      },
      "source": [
        "model.fit(qs, res, epochs = 500)"
      ],
      "execution_count": null,
      "outputs": []
    },
    {
      "cell_type": "code",
      "metadata": {
        "id": "WKSQA2jx4rgc",
        "colab_type": "code",
        "colab": {}
      },
      "source": [
        "print(model.predict([10]))"
      ],
      "execution_count": null,
      "outputs": []
    }
  ]
}
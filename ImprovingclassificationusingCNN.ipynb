{
  "nbformat": 4,
  "nbformat_minor": 0,
  "metadata": {
    "colab": {
      "name": "ImprovingclassificationusingCNN.ipynb",
      "provenance": [],
      "collapsed_sections": [],
      "authorship_tag": "ABX9TyOy1ZocjNvjbi8mPt2nD/Nv",
      "include_colab_link": true
    },
    "kernelspec": {
      "name": "python3",
      "display_name": "Python 3"
    },
    "accelerator": "GPU"
  },
  "cells": [
    {
      "cell_type": "markdown",
      "metadata": {
        "id": "view-in-github",
        "colab_type": "text"
      },
      "source": [
        "<a href=\"https://colab.research.google.com/github/Vaibhavi1707/Tensorflow-Intro-Work/blob/master/ImprovingclassificationusingCNN.ipynb\" target=\"_parent\"><img src=\"https://colab.research.google.com/assets/colab-badge.svg\" alt=\"Open In Colab\"/></a>"
      ]
    },
    {
      "cell_type": "markdown",
      "metadata": {
        "id": "0ZvoJ0e80C7i",
        "colab_type": "text"
      },
      "source": [
        "Covolutions: Narrow down the contents of the image to specific parts using Image processing via filters. A particular type of filter elaborates certain features of the image. We are taking 3 * 3 units at a time. That is, take a pixel and consider all it's neighours and replace the current pixel with the sum of the (filter value of the pixel * the actual pixel).\n",
        "\n",
        "Pooling: Condensing an image to a small part. It takes 4 pixels at a time i.e choose a pixel, take 2 underneath it and one on it's left. Then only store the max valued pixel. This process is called max-pooling."
      ]
    },
    {
      "cell_type": "code",
      "metadata": {
        "id": "eZtjgDF5vptq",
        "colab_type": "code",
        "colab": {}
      },
      "source": [
        "import tensorflow as tf"
      ],
      "execution_count": 1,
      "outputs": []
    },
    {
      "cell_type": "code",
      "metadata": {
        "id": "tVhvr5PR3P9o",
        "colab_type": "code",
        "colab": {}
      },
      "source": [
        "class MyCallback(tf.keras.callbacks.Callback):\n",
        "  def on_epoch_end(self, epoch, logs = {}):\n",
        "    if logs.get('accuracy') > 0.998:\n",
        "      print('\\n Reached 99 % accuracy stopped training..')\n",
        "      self.model.stop_training = True"
      ],
      "execution_count": 2,
      "outputs": []
    },
    {
      "cell_type": "code",
      "metadata": {
        "id": "CX-FzXPGvvWr",
        "colab_type": "code",
        "colab": {}
      },
      "source": [
        "fashion_mnist = tf.keras.datasets.fashion_mnist\n",
        "(train_images, train_labels), (test_images, test_labels) = fashion_mnist.load_data()"
      ],
      "execution_count": null,
      "outputs": []
    },
    {
      "cell_type": "code",
      "metadata": {
        "id": "LABw4jlLwGJt",
        "colab_type": "code",
        "colab": {}
      },
      "source": [
        "train_images = train_images / 256.0\n",
        "test_images = test_images / 256.0\n",
        "train_images = train_images.reshape(60000, 28, 28, 1)\n",
        "test_images = test_images.reshape(10000, 28, 28, 1)"
      ],
      "execution_count": 4,
      "outputs": []
    },
    {
      "cell_type": "code",
      "metadata": {
        "id": "y8-oqxbJwPqU",
        "colab_type": "code",
        "colab": {}
      },
      "source": [
        "model = tf.keras.models.Sequential([\n",
        "  ## Image processing ##\n",
        "  tf.keras.layers.Conv2D(64, (3, 3), activation = \"relu\", input_shape = (28, 28, 1)),\n",
        "  tf.keras.layers.MaxPooling2D(2, 2),\n",
        "  tf.keras.layers.Conv2D(64, (3, 3), activation = 'relu', input_shape = (28, 28, 1)),\n",
        "  tf.keras.layers.MaxPooling2D(2, 2),\n",
        "  ## Image processing ##\n",
        "  tf.keras.layers.Flatten(),\n",
        "  tf.keras.layers.Dense(128, activation = 'relu'),\n",
        "  tf.keras.layers.Dense(10, activation = 'softmax')\n",
        "])\n",
        "model.summary()"
      ],
      "execution_count": null,
      "outputs": []
    },
    {
      "cell_type": "code",
      "metadata": {
        "id": "kmcS-Me23J3X",
        "colab_type": "code",
        "colab": {}
      },
      "source": [
        "callbacks = MyCallback()"
      ],
      "execution_count": 6,
      "outputs": []
    },
    {
      "cell_type": "code",
      "metadata": {
        "id": "8mr97jQU02Si",
        "colab_type": "code",
        "colab": {}
      },
      "source": [
        "model.compile(optimizer = 'adam', loss = 'sparse_categorical_crossentropy', metrics = ['accuracy'])\n",
        "model.fit(train_images, train_labels, epochs = 15, callbacks = [callbacks])\n",
        "model.evaluate(test_images, test_labels)"
      ],
      "execution_count": null,
      "outputs": []
    }
  ]
}